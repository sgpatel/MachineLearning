{
  "cells": [
    {
      "cell_type": "markdown",
      "metadata": {
        "id": "view-in-github",
        "colab_type": "text"
      },
      "source": [
        "<a href=\"https://colab.research.google.com/github/sgpatel/MachineLearning/blob/master/MathematicsForML_TF_GPU.ipynb\" target=\"_parent\"><img src=\"https://colab.research.google.com/assets/colab-badge.svg\" alt=\"Open In Colab\"/></a>"
      ]
    },
    {
      "cell_type": "markdown",
      "source": [
        "# Mathematics for machine learning\n"
      ],
      "metadata": {
        "id": "KkyKB5s4H68d"
      }
    },
    {
      "cell_type": "code",
      "source": [
        "import numpy as np\n",
        "P=np.array([[1,2],[2,3],[3,4]])\n",
        "#print(P)\n",
        "print(P+P)\n",
        "print(P*P)"
      ],
      "metadata": {
        "colab": {
          "base_uri": "https://localhost:8080/"
        },
        "id": "tt4ktA1yIBkz",
        "outputId": "83564900-f459-4f1c-f539-dc3aa77eb32d"
      },
      "execution_count": null,
      "outputs": [
        {
          "output_type": "stream",
          "name": "stdout",
          "text": [
            "[[2 4]\n",
            " [4 6]\n",
            " [6 8]]\n",
            "[[ 1  4]\n",
            " [ 4  9]\n",
            " [ 9 16]]\n"
          ]
        }
      ]
    },
    {
      "cell_type": "code",
      "source": [
        "Q=np.array([[9,8],[8,7],[7,6]])\n",
        "\n",
        "R=np.multiply(P,Q)\n",
        "print(R)\n",
        "S=np.add(R,P)\n",
        "print(S)"
      ],
      "metadata": {
        "colab": {
          "base_uri": "https://localhost:8080/"
        },
        "id": "sxjjil1tJSyC",
        "outputId": "46e62f02-58b9-4bc5-c637-12fff00f5385"
      },
      "execution_count": null,
      "outputs": [
        {
          "output_type": "stream",
          "name": "stdout",
          "text": [
            "[[ 9 16]\n",
            " [16 21]\n",
            " [21 24]]\n",
            "[[10 18]\n",
            " [18 24]\n",
            " [24 28]]\n"
          ]
        }
      ]
    },
    {
      "cell_type": "markdown",
      "source": [
        "**EugenValues and EigenVectors**\n",
        "\n",
        "https://byjus.com/maths/eigenvector/\n",
        "\n",
        "Eigenvector of a square matrix is defined as a non-vector in which when a given matrix is multiplied,  it is equal to a scalar multiple of that vector. Let us suppose that A is an n x n square matrix, and if v be a non-zero vector, then the product of matrix A, and vector v is defined as the product of a scalar quantity λ and the given vector, such that:\n",
        "\n",
        "Av =λv\n",
        "\n",
        "Where\n",
        "\n",
        "v = Eigenvector and λ be the scalar quantity that is termed as eigenvalue associated with given matrix A\n",
        "\n",
        "Eigenvector Equation\n",
        "The equation corresponding to each eigenvalue of a matrix is given by:\n",
        "\n",
        "AX = λ X\n",
        "\n",
        "It is formally known as the eigenvector equation.\n",
        "\n",
        "In place of λ, substitute each eigenvalue and get the eigenvector equation which enables us to solve for the eigenvector belonging to each eigenvalue.\n"
      ],
      "metadata": {
        "id": "bBJIQgaIDDM2"
      }
    },
    {
      "cell_type": "code",
      "source": [
        "import numpy as np\n",
        "A = np.array([[2,-2,3],[1,1,1],[1,3,-1]])\n",
        "print(A)"
      ],
      "metadata": {
        "id": "eyI5Iw3REzC9",
        "outputId": "c611156a-756b-4dfd-e0ba-ed9422757019",
        "colab": {
          "base_uri": "https://localhost:8080/"
        }
      },
      "execution_count": null,
      "outputs": [
        {
          "output_type": "stream",
          "name": "stdout",
          "text": [
            "[[ 2 -2  3]\n",
            " [ 1  1  1]\n",
            " [ 1  3 -1]]\n"
          ]
        }
      ]
    },
    {
      "cell_type": "code",
      "source": [
        "#calculate Eigen pairs\n",
        "values, vectors = np.linalg.eig(A)\n",
        "print(values)\n",
        "print(vectors)"
      ],
      "metadata": {
        "id": "D7XEKasgF9hl",
        "outputId": "2e681216-9598-4d45-a691-adfe24cf03a1",
        "colab": {
          "base_uri": "https://localhost:8080/"
        }
      },
      "execution_count": null,
      "outputs": [
        {
          "output_type": "stream",
          "name": "stdout",
          "text": [
            "[ 3.  1. -2.]\n",
            "[[ 0.57735027  0.57735027 -0.61684937]\n",
            " [ 0.57735027 -0.57735027 -0.05607722]\n",
            " [ 0.57735027 -0.57735027  0.78508102]]\n"
          ]
        }
      ]
    },
    {
      "cell_type": "code",
      "source": [
        "import numpy as np\n",
        "A = np.array([[2,0,0],[0,1,0],[0,0,-1]])\n",
        "print(A)"
      ],
      "metadata": {
        "id": "LPMvnQadHQaO",
        "outputId": "bb2a04b9-9059-4393-c95a-e6486d704f8b",
        "colab": {
          "base_uri": "https://localhost:8080/"
        }
      },
      "execution_count": null,
      "outputs": [
        {
          "output_type": "stream",
          "name": "stdout",
          "text": [
            "[[ 2  0  0]\n",
            " [ 0  1  0]\n",
            " [ 0  0 -1]]\n"
          ]
        }
      ]
    },
    {
      "cell_type": "code",
      "source": [
        "#Eigen values of digonal matrix\n",
        "values, vectors = np.linalg.eig(A)\n",
        "print(values)"
      ],
      "metadata": {
        "id": "jwAL_K8sHbLk",
        "outputId": "b3fb3c17-e360-4c7d-8b5b-47866ba59544",
        "colab": {
          "base_uri": "https://localhost:8080/"
        }
      },
      "execution_count": null,
      "outputs": [
        {
          "output_type": "stream",
          "name": "stdout",
          "text": [
            "[ 2.  1. -1.]\n"
          ]
        }
      ]
    },
    {
      "cell_type": "code",
      "source": [
        "print(vectors)"
      ],
      "metadata": {
        "id": "NeNl5LofHy19",
        "outputId": "247cea2e-6251-4553-b7ae-ffe8780b91d3",
        "colab": {
          "base_uri": "https://localhost:8080/"
        }
      },
      "execution_count": null,
      "outputs": [
        {
          "output_type": "stream",
          "name": "stdout",
          "text": [
            "[[1. 0. 0.]\n",
            " [0. 1. 0.]\n",
            " [0. 0. 1.]]\n"
          ]
        }
      ]
    },
    {
      "cell_type": "markdown",
      "source": [
        "**Special Matrices and Properties**\n",
        "\n",
        "Usecases -> special matrix \n",
        "Normalizing the Objective function \n",
        "\n",
        "\n",
        "---\n",
        "**Qaudratic Form** : \n",
        "The quadratic form is a particular case of a bilinear form. The two sets of variables in bilinear form (x1, x2, x3, …, xm) and (y1, y2, y3, …, yn) become quadratic form if the two sets are equal and xi = yi for each i. For example, f(x,y) = x2 – 2y2 + 5xy is a real quadratic form in two variables x and y.\n",
        "\n",
        "Now, quadratic form as linear transformation over a vector space V is defined as if f is a symmetric bilinear form, that is f(x, y) = f(y, x) for every x, y in V, the quadratic form is given by q(x) = f(x, x) for every x in V.\n",
        "\n",
        "Here, q has the property q(ax) = a2 q(x) where a is a scalar and x is in V. As, q(ax) = f(ax, ax) = a2 x2 = a q(x).\n",
        "\n",
        "\n",
        "\n",
        "\n"
      ],
      "metadata": {
        "id": "YY_X8CpgzRu5"
      }
    },
    {
      "cell_type": "markdown",
      "source": [
        "Usecase- The Rayleigh quotient is used in the min-max theorem to get exact values of all eigenvalues. It is also used in eigenvalue algorithms (such as Rayleigh quotient iteration) to obtain an eigenvalue approximation from an eigenvector approximation.\n",
        "\n",
        "**Rayleigh quotients**\n",
        "\n",
        "![image.png](data:image/png;base64,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)\n",
        "\n",
        "**Positive Semi-Definite**\n",
        "A symmetric matrix A∈R^nxn is said to be positive semi definite if for all X∈R^n\n",
        "\n",
        "We have : q(X)=X^T AX>=0 \n",
        "\n",
        "**Positive Semi-Definite**\n",
        "A symmetric Matrix A∈R^nxn is said to be positive definite if for all non-zero X∈R^n,\n",
        "\n",
        "q(X) = X^T AX>0\n",
        "\n",
        "**Some Properties**\n",
        "\n",
        "1. A Symmetric matrix is positive (Semi-) definite if and only if its all eigenvalues are positive (non-negative).\n",
        "2. A symmetric matrix is positive (semi-) deifinite if its all PIVOTS are positive (non-negative)\n",
        "\n",
        "**Important Result**\n",
        "\n",
        "1. Suppose A∈R^nxn. Then A^T A is PSD. Moreover, if Nullspace(A)={0}, then A^T A is PD\n",
        "2. If A is PSD and e(epsilan)>0, then A+e| is PD\n",
        "\n",
        "**The Geometry of PD Quadratic Forms**\n",
        "The isocontour of q(X)=X^T AX are ellipsoids such that the axes points in the direction of the eigenvectors of A, and the radii of these axes are proportional to the inverse square root of the corresponding eigenvalues."
      ],
      "metadata": {
        "id": "N-Cr8TPJ5kDs"
      }
    },
    {
      "cell_type": "markdown",
      "source": [
        "**Spectral Decomposition**\n",
        "\n",
        "1. **Eigendecomposition**\n",
        "Let A be a square matrix of order n. Also let {v1,v2,v3....,vn} can be Linearly independent eigenvector of matrix A.\n",
        "\n",
        "Then A can be factorized as\n",
        "\n",
        "\n",
        "A=PDP^-1\n",
        "\n",
        "The i^th column of P is the eigenvector vi of A and D is diagonal matrix whose diagonal elements are the corresponding eigen values of A.\n",
        "\n",
        "==> Dii=λi  (λ1,λ2,.......λn are eigenvalues of A) \n",
        "\n",
        "**Conditions for eigendecompositin**\n",
        "We need AM=GM for each eigenvalues of A\n",
        "\n",
        "*   Matrix A should have n linearly independent  eigenvectors\n",
        "*   The Eigenvectors of A forms a basis if n-dimentional vector space.\n",
        "\n",
        "2. **Spectral Decomposition**(In case of Symmetric Matrix)\n",
        "\n",
        "Let A be a nxn symmetric matrix, then the eigendecomposition of A is gauranteed:\n",
        "\n",
        "=> A= PDP^-1\n",
        "\n",
        "consider λ1,λ2,.......λn are eigenvalues of A and v1,v2....,vn is eigenvectors of A.\n",
        "\n",
        "A=i=1 to n Σλᵢ vᵢ vᵢᵀ is the projection onto 1-D subspace spanned by vᵢ.\n",
        "\n",
        "In Other words\n",
        "\n",
        "P(x)= vᵢvⱼᵀx projection map is an orthogonal projection onto the subspace spanned by vⱼ.\n",
        "\n",
        "\n",
        "**Singular Values Decomposition**\n"
      ],
      "metadata": {
        "id": "3fMXpFgUIYzn"
      }
    },
    {
      "cell_type": "code",
      "source": [],
      "metadata": {
        "id": "f8ZHihLzQlqh"
      },
      "execution_count": null,
      "outputs": []
    },
    {
      "cell_type": "markdown",
      "source": [
        "**Principle Component Analysis -I**\n",
        "\n",
        "PCA generally tries to find the lower dimentional surface to represent higher dimensional data.\n",
        "\n",
        "Terms:\n",
        "\n",
        "1. **Dimensionality** - No. of features or variables present in a dataset.\n",
        "2. **Correlation**- It signifies that how strongly two variables are dependent to each other.\n",
        "3. **Orthogonal**- Defines that variables are not correlated to each other. hence correlation between the pairs of variables is zero.\n",
        "4. **EigenVectors**- If there is a square matrix of M and a non-zero vector v is given then v will be eigenvector if Av is the scaler multiplication of v.\n",
        "5. **Covariance Matrix**- A matrix containing covariance between the pairs of variables."
      ],
      "metadata": {
        "id": "2lk99o82TN8T"
      }
    }
  ],
  "metadata": {
    "colab": {
      "name": "TensorFlow with GPU",
      "toc_visible": true,
      "provenance": [],
      "include_colab_link": true
    },
    "kernelspec": {
      "display_name": "Python 3",
      "name": "python3"
    },
    "accelerator": "GPU",
    "gpuClass": "standard"
  },
  "nbformat": 4,
  "nbformat_minor": 0
}