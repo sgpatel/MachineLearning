{
  "cells": [
    {
      "cell_type": "markdown",
      "metadata": {
        "id": "view-in-github",
        "colab_type": "text"
      },
      "source": [
        "<a href=\"https://colab.research.google.com/github/sgpatel/MachineLearning/blob/master/MathematicsForML_TF_GPU.ipynb\" target=\"_parent\"><img src=\"https://colab.research.google.com/assets/colab-badge.svg\" alt=\"Open In Colab\"/></a>"
      ]
    },
    {
      "cell_type": "markdown",
      "source": [
        "# Mathematics for machine learning\n"
      ],
      "metadata": {
        "id": "KkyKB5s4H68d"
      }
    },
    {
      "cell_type": "code",
      "source": [
        "import numpy as np\n",
        "P=np.array([[1,2],[2,3],[3,4]])\n",
        "#print(P)\n",
        "print(P+P)\n",
        "print(P*P)"
      ],
      "metadata": {
        "colab": {
          "base_uri": "https://localhost:8080/"
        },
        "id": "tt4ktA1yIBkz",
        "outputId": "83564900-f459-4f1c-f539-dc3aa77eb32d"
      },
      "execution_count": null,
      "outputs": [
        {
          "output_type": "stream",
          "name": "stdout",
          "text": [
            "[[2 4]\n",
            " [4 6]\n",
            " [6 8]]\n",
            "[[ 1  4]\n",
            " [ 4  9]\n",
            " [ 9 16]]\n"
          ]
        }
      ]
    },
    {
      "cell_type": "code",
      "source": [
        "Q=np.array([[9,8],[8,7],[7,6]])\n",
        "\n",
        "R=np.multiply(P,Q)\n",
        "print(R)\n",
        "S=np.add(R,P)\n",
        "print(S)"
      ],
      "metadata": {
        "colab": {
          "base_uri": "https://localhost:8080/"
        },
        "id": "sxjjil1tJSyC",
        "outputId": "46e62f02-58b9-4bc5-c637-12fff00f5385"
      },
      "execution_count": null,
      "outputs": [
        {
          "output_type": "stream",
          "name": "stdout",
          "text": [
            "[[ 9 16]\n",
            " [16 21]\n",
            " [21 24]]\n",
            "[[10 18]\n",
            " [18 24]\n",
            " [24 28]]\n"
          ]
        }
      ]
    },
    {
      "cell_type": "markdown",
      "source": [
        "**EugenValues and EigenVectors**\n",
        "\n",
        "https://byjus.com/maths/eigenvector/\n",
        "\n",
        "Eigenvector of a square matrix is defined as a non-vector in which when a given matrix is multiplied,  it is equal to a scalar multiple of that vector. Let us suppose that A is an n x n square matrix, and if v be a non-zero vector, then the product of matrix A, and vector v is defined as the product of a scalar quantity λ and the given vector, such that:\n",
        "\n",
        "Av =λv\n",
        "\n",
        "Where\n",
        "\n",
        "v = Eigenvector and λ be the scalar quantity that is termed as eigenvalue associated with given matrix A\n",
        "\n",
        "Eigenvector Equation\n",
        "The equation corresponding to each eigenvalue of a matrix is given by:\n",
        "\n",
        "AX = λ X\n",
        "\n",
        "It is formally known as the eigenvector equation.\n",
        "\n",
        "In place of λ, substitute each eigenvalue and get the eigenvector equation which enables us to solve for the eigenvector belonging to each eigenvalue.\n"
      ],
      "metadata": {
        "id": "bBJIQgaIDDM2"
      }
    },
    {
      "cell_type": "code",
      "source": [
        "import numpy as np\n",
        "A = np.array([[2,-2,3],[1,1,1],[1,3,-1]])\n",
        "print(A)"
      ],
      "metadata": {
        "id": "eyI5Iw3REzC9",
        "outputId": "c611156a-756b-4dfd-e0ba-ed9422757019",
        "colab": {
          "base_uri": "https://localhost:8080/"
        }
      },
      "execution_count": 5,
      "outputs": [
        {
          "output_type": "stream",
          "name": "stdout",
          "text": [
            "[[ 2 -2  3]\n",
            " [ 1  1  1]\n",
            " [ 1  3 -1]]\n"
          ]
        }
      ]
    },
    {
      "cell_type": "code",
      "source": [
        "#calculate Eigen pairs\n",
        "values, vectors = np.linalg.eig(A)\n",
        "print(values)\n",
        "print(vectors)"
      ],
      "metadata": {
        "id": "D7XEKasgF9hl",
        "outputId": "2e681216-9598-4d45-a691-adfe24cf03a1",
        "colab": {
          "base_uri": "https://localhost:8080/"
        }
      },
      "execution_count": 8,
      "outputs": [
        {
          "output_type": "stream",
          "name": "stdout",
          "text": [
            "[ 3.  1. -2.]\n",
            "[[ 0.57735027  0.57735027 -0.61684937]\n",
            " [ 0.57735027 -0.57735027 -0.05607722]\n",
            " [ 0.57735027 -0.57735027  0.78508102]]\n"
          ]
        }
      ]
    },
    {
      "cell_type": "code",
      "source": [
        "import numpy as np\n",
        "A = np.array([[2,0,0],[0,1,0],[0,0,-1]])\n",
        "print(A)"
      ],
      "metadata": {
        "id": "LPMvnQadHQaO",
        "outputId": "bb2a04b9-9059-4393-c95a-e6486d704f8b",
        "colab": {
          "base_uri": "https://localhost:8080/"
        }
      },
      "execution_count": 9,
      "outputs": [
        {
          "output_type": "stream",
          "name": "stdout",
          "text": [
            "[[ 2  0  0]\n",
            " [ 0  1  0]\n",
            " [ 0  0 -1]]\n"
          ]
        }
      ]
    },
    {
      "cell_type": "code",
      "source": [
        "#Eigen values of digonal matrix\n",
        "values, vectors = np.linalg.eig(A)\n",
        "print(values)"
      ],
      "metadata": {
        "id": "jwAL_K8sHbLk",
        "outputId": "b3fb3c17-e360-4c7d-8b5b-47866ba59544",
        "colab": {
          "base_uri": "https://localhost:8080/"
        }
      },
      "execution_count": 13,
      "outputs": [
        {
          "output_type": "stream",
          "name": "stdout",
          "text": [
            "[ 2.  1. -1.]\n"
          ]
        }
      ]
    },
    {
      "cell_type": "code",
      "source": [
        "print(vectors)"
      ],
      "metadata": {
        "id": "NeNl5LofHy19",
        "outputId": "247cea2e-6251-4553-b7ae-ffe8780b91d3",
        "colab": {
          "base_uri": "https://localhost:8080/"
        }
      },
      "execution_count": 12,
      "outputs": [
        {
          "output_type": "stream",
          "name": "stdout",
          "text": [
            "[[1. 0. 0.]\n",
            " [0. 1. 0.]\n",
            " [0. 0. 1.]]\n"
          ]
        }
      ]
    }
  ],
  "metadata": {
    "colab": {
      "name": "TensorFlow with GPU",
      "toc_visible": true,
      "provenance": [],
      "include_colab_link": true
    },
    "kernelspec": {
      "display_name": "Python 3",
      "name": "python3"
    },
    "accelerator": "GPU",
    "gpuClass": "standard"
  },
  "nbformat": 4,
  "nbformat_minor": 0
}