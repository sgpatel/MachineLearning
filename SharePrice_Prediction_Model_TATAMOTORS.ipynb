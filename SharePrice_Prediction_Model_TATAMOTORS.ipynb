{
  "nbformat": 4,
  "nbformat_minor": 0,
  "metadata": {
    "colab": {
      "provenance": [],
      "authorship_tag": "ABX9TyO+F8m5vxydQMr97FpARvIw",
      "include_colab_link": true
    },
    "kernelspec": {
      "name": "python3",
      "display_name": "Python 3"
    },
    "language_info": {
      "name": "python"
    },
    "accelerator": "GPU",
    "gpuClass": "standard"
  },
  "cells": [
    {
      "cell_type": "markdown",
      "metadata": {
        "id": "view-in-github",
        "colab_type": "text"
      },
      "source": [
        "<a href=\"https://colab.research.google.com/github/sgpatel/MachineLearning/blob/master/SharePrice_Prediction_Model_TATAMOTORS.ipynb\" target=\"_parent\"><img src=\"https://colab.research.google.com/assets/colab-badge.svg\" alt=\"Open In Colab\"/></a>"
      ]
    },
    {
      "cell_type": "code",
      "source": [
        "pip install yfinance"
      ],
      "metadata": {
        "id": "zZi7X5sgN9-6",
        "outputId": "08cfea5e-0df5-4c0c-b2d5-f0609f32df16",
        "colab": {
          "base_uri": "https://localhost:8080/",
          "height": 992
        }
      },
      "execution_count": 2,
      "outputs": [
        {
          "output_type": "stream",
          "name": "stdout",
          "text": [
            "Looking in indexes: https://pypi.org/simple, https://us-python.pkg.dev/colab-wheels/public/simple/\n",
            "Collecting yfinance\n",
            "  Downloading yfinance-0.2.9-py2.py3-none-any.whl (55 kB)\n",
            "\u001b[2K     \u001b[90m━━━━━━━━━━━━━━━━━━━━━━━━━━━━━━━━━━━━━━━━\u001b[0m \u001b[32m55.9/55.9 KB\u001b[0m \u001b[31m8.7 MB/s\u001b[0m eta \u001b[36m0:00:00\u001b[0m\n",
            "\u001b[?25hRequirement already satisfied: multitasking>=0.0.7 in /usr/local/lib/python3.8/dist-packages (from yfinance) (0.0.11)\n",
            "Requirement already satisfied: lxml>=4.9.1 in /usr/local/lib/python3.8/dist-packages (from yfinance) (4.9.2)\n",
            "Collecting beautifulsoup4>=4.11.1\n",
            "  Downloading beautifulsoup4-4.11.1-py3-none-any.whl (128 kB)\n",
            "\u001b[2K     \u001b[90m━━━━━━━━━━━━━━━━━━━━━━━━━━━━━━━━━━━━━━\u001b[0m \u001b[32m128.2/128.2 KB\u001b[0m \u001b[31m19.2 MB/s\u001b[0m eta \u001b[36m0:00:00\u001b[0m\n",
            "\u001b[?25hCollecting html5lib>=1.1\n",
            "  Downloading html5lib-1.1-py2.py3-none-any.whl (112 kB)\n",
            "\u001b[2K     \u001b[90m━━━━━━━━━━━━━━━━━━━━━━━━━━━━━━━━━━━━━━\u001b[0m \u001b[32m112.2/112.2 KB\u001b[0m \u001b[31m16.5 MB/s\u001b[0m eta \u001b[36m0:00:00\u001b[0m\n",
            "\u001b[?25hRequirement already satisfied: appdirs>=1.4.4 in /usr/local/lib/python3.8/dist-packages (from yfinance) (1.4.4)\n",
            "Requirement already satisfied: pytz>=2022.5 in /usr/local/lib/python3.8/dist-packages (from yfinance) (2022.7)\n",
            "Requirement already satisfied: numpy>=1.16.5 in /usr/local/lib/python3.8/dist-packages (from yfinance) (1.21.6)\n",
            "Collecting cryptography>=3.3.2\n",
            "  Downloading cryptography-39.0.0-cp36-abi3-manylinux_2_28_x86_64.whl (4.2 MB)\n",
            "\u001b[2K     \u001b[90m━━━━━━━━━━━━━━━━━━━━━━━━━━━━━━━━━━━━━━━━\u001b[0m \u001b[32m4.2/4.2 MB\u001b[0m \u001b[31m71.8 MB/s\u001b[0m eta \u001b[36m0:00:00\u001b[0m\n",
            "\u001b[?25hRequirement already satisfied: pandas>=1.3.0 in /usr/local/lib/python3.8/dist-packages (from yfinance) (1.3.5)\n",
            "Collecting frozendict>=2.3.4\n",
            "  Downloading frozendict-2.3.4-cp38-cp38-manylinux_2_17_x86_64.manylinux2014_x86_64.whl (110 kB)\n",
            "\u001b[2K     \u001b[90m━━━━━━━━━━━━━━━━━━━━━━━━━━━━━━━━━━━━━━\u001b[0m \u001b[32m111.0/111.0 KB\u001b[0m \u001b[31m16.1 MB/s\u001b[0m eta \u001b[36m0:00:00\u001b[0m\n",
            "\u001b[?25hCollecting requests>=2.26\n",
            "  Downloading requests-2.28.2-py3-none-any.whl (62 kB)\n",
            "\u001b[2K     \u001b[90m━━━━━━━━━━━━━━━━━━━━━━━━━━━━━━━━━━━━━━━━\u001b[0m \u001b[32m62.8/62.8 KB\u001b[0m \u001b[31m10.3 MB/s\u001b[0m eta \u001b[36m0:00:00\u001b[0m\n",
            "\u001b[?25hCollecting soupsieve>1.2\n",
            "  Downloading soupsieve-2.3.2.post1-py3-none-any.whl (37 kB)\n",
            "Requirement already satisfied: cffi>=1.12 in /usr/local/lib/python3.8/dist-packages (from cryptography>=3.3.2->yfinance) (1.15.1)\n",
            "Requirement already satisfied: six>=1.9 in /usr/local/lib/python3.8/dist-packages (from html5lib>=1.1->yfinance) (1.15.0)\n",
            "Requirement already satisfied: webencodings in /usr/local/lib/python3.8/dist-packages (from html5lib>=1.1->yfinance) (0.5.1)\n",
            "Requirement already satisfied: python-dateutil>=2.7.3 in /usr/local/lib/python3.8/dist-packages (from pandas>=1.3.0->yfinance) (2.8.2)\n",
            "Requirement already satisfied: urllib3<1.27,>=1.21.1 in /usr/local/lib/python3.8/dist-packages (from requests>=2.26->yfinance) (1.24.3)\n",
            "Requirement already satisfied: idna<4,>=2.5 in /usr/local/lib/python3.8/dist-packages (from requests>=2.26->yfinance) (2.10)\n",
            "Requirement already satisfied: certifi>=2017.4.17 in /usr/local/lib/python3.8/dist-packages (from requests>=2.26->yfinance) (2022.12.7)\n",
            "Requirement already satisfied: charset-normalizer<4,>=2 in /usr/local/lib/python3.8/dist-packages (from requests>=2.26->yfinance) (2.1.1)\n",
            "Requirement already satisfied: pycparser in /usr/local/lib/python3.8/dist-packages (from cffi>=1.12->cryptography>=3.3.2->yfinance) (2.21)\n",
            "Installing collected packages: soupsieve, requests, html5lib, frozendict, cryptography, beautifulsoup4, yfinance\n",
            "  Attempting uninstall: requests\n",
            "    Found existing installation: requests 2.25.1\n",
            "    Uninstalling requests-2.25.1:\n",
            "      Successfully uninstalled requests-2.25.1\n",
            "  Attempting uninstall: html5lib\n",
            "    Found existing installation: html5lib 1.0.1\n",
            "    Uninstalling html5lib-1.0.1:\n",
            "      Successfully uninstalled html5lib-1.0.1\n",
            "  Attempting uninstall: beautifulsoup4\n",
            "    Found existing installation: beautifulsoup4 4.6.3\n",
            "    Uninstalling beautifulsoup4-4.6.3:\n",
            "      Successfully uninstalled beautifulsoup4-4.6.3\n",
            "Successfully installed beautifulsoup4-4.11.1 cryptography-39.0.0 frozendict-2.3.4 html5lib-1.1 requests-2.28.2 soupsieve-2.3.2.post1 yfinance-0.2.9\n"
          ]
        },
        {
          "output_type": "display_data",
          "data": {
            "application/vnd.colab-display-data+json": {
              "pip_warning": {
                "packages": [
                  "requests"
                ]
              }
            }
          },
          "metadata": {}
        }
      ]
    },
    {
      "cell_type": "code",
      "execution_count": 3,
      "metadata": {
        "colab": {
          "base_uri": "https://localhost:8080/",
          "height": 1000
        },
        "id": "fFokyMUdNbv3",
        "outputId": "876bd61a-470f-4bad-c1f5-336cce076d0a"
      },
      "outputs": [
        {
          "output_type": "stream",
          "name": "stdout",
          "text": [
            "Epoch 1/25\n",
            "83/83 [==============================] - 5s 11ms/step - loss: 0.0182\n",
            "Epoch 2/25\n",
            "83/83 [==============================] - 1s 11ms/step - loss: 0.0050\n",
            "Epoch 3/25\n",
            "83/83 [==============================] - 1s 11ms/step - loss: 0.0049\n",
            "Epoch 4/25\n",
            "83/83 [==============================] - 1s 11ms/step - loss: 0.0040\n",
            "Epoch 5/25\n",
            "83/83 [==============================] - 1s 10ms/step - loss: 0.0039\n",
            "Epoch 6/25\n",
            "83/83 [==============================] - 1s 11ms/step - loss: 0.0038\n",
            "Epoch 7/25\n",
            "83/83 [==============================] - 1s 11ms/step - loss: 0.0036\n",
            "Epoch 8/25\n",
            "83/83 [==============================] - 1s 11ms/step - loss: 0.0033\n",
            "Epoch 9/25\n",
            "83/83 [==============================] - 1s 11ms/step - loss: 0.0030\n",
            "Epoch 10/25\n",
            "83/83 [==============================] - 1s 11ms/step - loss: 0.0029\n",
            "Epoch 11/25\n",
            "83/83 [==============================] - 1s 11ms/step - loss: 0.0029\n",
            "Epoch 12/25\n",
            "83/83 [==============================] - 1s 11ms/step - loss: 0.0028\n",
            "Epoch 13/25\n",
            "83/83 [==============================] - 1s 11ms/step - loss: 0.0027\n",
            "Epoch 14/25\n",
            "83/83 [==============================] - 1s 11ms/step - loss: 0.0026\n",
            "Epoch 15/25\n",
            "83/83 [==============================] - 1s 11ms/step - loss: 0.0025\n",
            "Epoch 16/25\n",
            "83/83 [==============================] - 1s 11ms/step - loss: 0.0024\n",
            "Epoch 17/25\n",
            "83/83 [==============================] - 1s 11ms/step - loss: 0.0023\n",
            "Epoch 18/25\n",
            "83/83 [==============================] - 1s 11ms/step - loss: 0.0024\n",
            "Epoch 19/25\n",
            "83/83 [==============================] - 1s 11ms/step - loss: 0.0022\n",
            "Epoch 20/25\n",
            "83/83 [==============================] - 1s 11ms/step - loss: 0.0021\n",
            "Epoch 21/25\n",
            "83/83 [==============================] - 1s 11ms/step - loss: 0.0021\n",
            "Epoch 22/25\n",
            "83/83 [==============================] - 1s 10ms/step - loss: 0.0020\n",
            "Epoch 23/25\n",
            "83/83 [==============================] - 1s 11ms/step - loss: 0.0020\n",
            "Epoch 24/25\n",
            "83/83 [==============================] - 1s 11ms/step - loss: 0.0020\n",
            "Epoch 25/25\n",
            "83/83 [==============================] - 1s 10ms/step - loss: 0.0017\n",
            "24/24 [==============================] - 1s 5ms/step\n"
          ]
        },
        {
          "output_type": "display_data",
          "data": {
            "text/plain": [
              "<Figure size 432x288 with 1 Axes>"
            ],
            "image/png": "[encoded data removed]"
          },
          "metadata": {
            "needs_background": "light"
          }
        }
      ],
      "source": [
        "import numpy as np\n",
        "import pandas as pd\n",
        "import matplotlib.pyplot as plt\n",
        "import pandas_datareader as web\n",
        "import datetime as dt\n",
        "import yfinance as yf\n",
        "\n",
        "from sklearn.preprocessing import MinMaxScaler\n",
        "from tensorflow.keras.models import Sequential\n",
        "from tensorflow.keras.layers import Dense, Dropout, LSTM\n",
        "\n",
        "company = 'TATAMOTORS.BO'\n",
        "\n",
        "startDate = dt.datetime(2012,1,1)\n",
        "endDate = dt.datetime(2023,1,1)\n",
        "fb = yf.Ticker(company)\n",
        "data=fb.history(start=startDate,end=endDate)\n",
        "\n",
        "#print(data)\n",
        "\n",
        "\n",
        "scaler = MinMaxScaler(feature_range=(0,1))\n",
        "scaled_data = scaler.fit_transform(data['Close'].values.reshape(-1,1))\n",
        "prediction_days =60\n",
        "\n",
        "x_train =[]\n",
        "y_train =[]\n",
        "\n",
        "for x in range(prediction_days, len(scaled_data)):\n",
        "    x_train.append(scaled_data[x-prediction_days:x,0])\n",
        "    y_train.append(scaled_data[x,0])\n",
        "               \n",
        "               \n",
        "            \n",
        "x_train, y_train = np.array(x_train), np.array(y_train)\n",
        "x_train = np.reshape(x_train,(x_train.shape[0],x_train.shape[1],1))\n",
        "               \n",
        "model = Sequential()\n",
        "               \n",
        "model.add(LSTM(units=50,return_sequences=True,input_shape=(x_train.shape[1],1)))\n",
        "model.add(Dropout(0.2))\n",
        "model.add(LSTM(units=50,return_sequences=True))\n",
        "model.add(Dropout(0.2))\n",
        "model.add(LSTM(units=50))\n",
        "model.add(Dropout(0.2))\n",
        "model.add(Dense(units=1))\n",
        "\n",
        "model.compile(optimizer='adam', loss='mean_squared_error')\n",
        "model.fit(x_train,y_train,epochs=25, batch_size=32)\n",
        "          \n",
        "'''Test the model Accuracy on existing data '''\n",
        "          \n",
        "test_start = dt.datetime(2020,1,1)\n",
        "test_end = dt.datetime.now()\n",
        "          \n",
        "test_data =fb.history(start=test_start,end=test_end)        \n",
        "               \n",
        "actual_prices = test_data['Close'].values\n",
        "          \n",
        "total_dataset = pd.concat((data['Close'],test_data['Close']),axis=0)\n",
        "          \n",
        "model_inputs = total_dataset[len(total_dataset)-len(test_data)-prediction_days:].values\n",
        "model_inputs = model_inputs.reshape(-1,1)\n",
        "model_inputs = scaler.transform(model_inputs)\n",
        "          \n",
        "          \n",
        "# Make Prediction on test data\n",
        "          \n",
        "x_test =[]\n",
        "          \n",
        "for x in range(prediction_days,len(model_inputs)):\n",
        "          x_test.append(model_inputs[x-prediction_days:x,0])\n",
        "          \n",
        "x_test= np.array(x_test)\n",
        "x_test = np.reshape(x_test,(x_test.shape[0],x_test.shape[1],1))\n",
        "                        \n",
        "predicted_prices = model.predict(x_test)\n",
        "predicted_prices = scaler.inverse_transform(predicted_prices)\n",
        "\n",
        "plt.plot(actual_prices, color=\"black\",label=f\"Actual {company} stock price\")\n",
        "plt.plot(predicted_prices,color='green', label=f'Predicted {company} price')\n",
        "plt.title(f\"{company} share price\")\n",
        "plt.xlabel(\"Time\")\n",
        "plt.ylabel(f\"{company} share price\")\n",
        "plt.legend()\n",
        "plt.show()"
      ]
    }
  ]
}