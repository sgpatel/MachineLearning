{
  "nbformat": 4,
  "nbformat_minor": 0,
  "metadata": {
    "colab": {
      "provenance": [],
      "authorship_tag": "ABX9TyNzV7KS6fUgP9QgYoOYtA4X",
      "include_colab_link": true
    },
    "kernelspec": {
      "name": "python3",
      "display_name": "Python 3"
    },
    "language_info": {
      "name": "python"
    }
  },
  "cells": [
    {
      "cell_type": "markdown",
      "metadata": {
        "id": "view-in-github",
        "colab_type": "text"
      },
      "source": [
        "<a href=\"https://colab.research.google.com/github/sgpatel/MachineLearning/blob/master/Logistic_Regression_TF_with_GPU.ipynb\" target=\"_parent\"><img src=\"https://colab.research.google.com/assets/colab-badge.svg\" alt=\"Open In Colab\"/></a>"
      ]
    },
    {
      "cell_type": "markdown",
      "source": [
        "#Logistic Regression -I\n",
        "UseCases - Logistic Regression especially in case of Classification Problem\n",
        " ie. Log-it, MLE (maximun Likelyhood Estimation)\n",
        "\n",
        " \n",
        " **Sigmoid Functions**\n",
        " Sigmoid function is a mathematical function which has characteristic **S-shaped** curve.\n",
        "\n",
        "\n",
        "\n",
        "*   Logistic Function \n",
        "*   Hyperbolic Tangent\n",
        "*   arctangent\n",
        "\n",
        "S(x) = 1/(1+e-ˣ)\n",
        "\n",
        "\n"
      ],
      "metadata": {
        "id": "GX1wqMG_U9vP"
      }
    }
  ]
}