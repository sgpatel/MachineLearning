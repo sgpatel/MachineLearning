{
  "cells": [
    {
      "cell_type": "markdown",
      "metadata": {
        "id": "view-in-github",
        "colab_type": "text"
      },
      "source": [
        "<a href=\"https://colab.research.google.com/github/sgpatel/MachineLearning/blob/master/TensorFlow_with_GPU.ipynb\" target=\"_parent\"><img src=\"https://colab.research.google.com/assets/colab-badge.svg\" alt=\"Open In Colab\"/></a>"
      ]
    },
    {
      "cell_type": "markdown",
      "source": [
        "# Mathematics for machine learning\n"
      ],
      "metadata": {
        "id": "KkyKB5s4H68d"
      }
    },
    {
      "cell_type": "code",
      "source": [
        "import numpy as np\n",
        "P=np.array([[1,2],[2,3],[3,4]])\n",
        "#print(P)\n",
        "print(P+P)\n",
        "print(P*P)"
      ],
      "metadata": {
        "colab": {
          "base_uri": "https://localhost:8080/"
        },
        "id": "tt4ktA1yIBkz",
        "outputId": "83564900-f459-4f1c-f539-dc3aa77eb32d"
      },
      "execution_count": null,
      "outputs": [
        {
          "output_type": "stream",
          "name": "stdout",
          "text": [
            "[[2 4]\n",
            " [4 6]\n",
            " [6 8]]\n",
            "[[ 1  4]\n",
            " [ 4  9]\n",
            " [ 9 16]]\n"
          ]
        }
      ]
    },
    {
      "cell_type": "code",
      "source": [
        "Q=np.array([[9,8],[8,7],[7,6]])\n",
        "\n",
        "R=np.multiply(P,Q)\n",
        "print(R)\n",
        "S=np.add(R,P)\n",
        "print(S)"
      ],
      "metadata": {
        "colab": {
          "base_uri": "https://localhost:8080/"
        },
        "id": "sxjjil1tJSyC",
        "outputId": "46e62f02-58b9-4bc5-c637-12fff00f5385"
      },
      "execution_count": null,
      "outputs": [
        {
          "output_type": "stream",
          "name": "stdout",
          "text": [
            "[[ 9 16]\n",
            " [16 21]\n",
            " [21 24]]\n",
            "[[10 18]\n",
            " [18 24]\n",
            " [24 28]]\n"
          ]
        }
      ]
    }
  ],
  "metadata": {
    "colab": {
      "name": "TensorFlow with GPU",
      "toc_visible": true,
      "provenance": [],
      "include_colab_link": true
    },
    "kernelspec": {
      "display_name": "Python 3",
      "name": "python3"
    },
    "accelerator": "GPU",
    "gpuClass": "standard"
  },
  "nbformat": 4,
  "nbformat_minor": 0
}